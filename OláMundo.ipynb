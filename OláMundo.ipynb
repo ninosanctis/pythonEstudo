{
  "nbformat": 4,
  "nbformat_minor": 0,
  "metadata": {
    "colab": {
      "provenance": [],
      "authorship_tag": "ABX9TyONbsiBaq4bSPhRBka32zze",
      "include_colab_link": true
    },
    "kernelspec": {
      "name": "python3",
      "display_name": "Python 3"
    },
    "language_info": {
      "name": "python"
    }
  },
  "cells": [
    {
      "cell_type": "markdown",
      "metadata": {
        "id": "view-in-github",
        "colab_type": "text"
      },
      "source": [
        "<a href=\"https://colab.research.google.com/github/ninosanctis/pythonEstudo/blob/main/Ol%C3%A1Mundo.ipynb\" target=\"_parent\"><img src=\"https://colab.research.google.com/assets/colab-badge.svg\" alt=\"Open In Colab\"/></a>"
      ]
    },
    {
      "cell_type": "markdown",
      "source": [
        "# **Esse é meu primeiro programa, lá ele!**\n"
      ],
      "metadata": {
        "id": "yJntxvZ5rWJd"
      }
    },
    {
      "cell_type": "code",
      "execution_count": 1,
      "metadata": {
        "colab": {
          "base_uri": "https://localhost:8080/"
        },
        "id": "Lq-rDnX8qsdM",
        "outputId": "1802775e-2df5-45ef-c115-6e5880554419"
      },
      "outputs": [
        {
          "output_type": "stream",
          "name": "stdout",
          "text": [
            "olá mundo!\n"
          ]
        }
      ],
      "source": [
        "print(\"olá mundo!\")"
      ]
    },
    {
      "cell_type": "code",
      "source": [],
      "metadata": {
        "id": "1_921IL3rm3J"
      },
      "execution_count": null,
      "outputs": []
    },
    {
      "cell_type": "markdown",
      "source": [
        "# Operadores\n",
        "Soma, Sub, Mult e Divisão"
      ],
      "metadata": {
        "id": "-O-jungUry6h"
      }
    },
    {
      "cell_type": "markdown",
      "source": [
        "Operador Soma"
      ],
      "metadata": {
        "id": "9kfLWh4Tr8rN"
      }
    },
    {
      "cell_type": "code",
      "source": [
        "4+6"
      ],
      "metadata": {
        "colab": {
          "base_uri": "https://localhost:8080/"
        },
        "id": "440rwBs2sThQ",
        "outputId": "469b3236-66bd-468d-a048-e4c143d4cb12"
      },
      "execution_count": 4,
      "outputs": [
        {
          "output_type": "execute_result",
          "data": {
            "text/plain": [
              "10"
            ]
          },
          "metadata": {},
          "execution_count": 4
        }
      ]
    },
    {
      "cell_type": "markdown",
      "source": [
        "Sub"
      ],
      "metadata": {
        "id": "tcRg4AQnsW70"
      }
    },
    {
      "cell_type": "code",
      "source": [
        "4-6"
      ],
      "metadata": {
        "colab": {
          "base_uri": "https://localhost:8080/"
        },
        "id": "nZuIVUdwsXZx",
        "outputId": "00753119-d3bf-4873-95a3-158a8e47fc66"
      },
      "execution_count": 5,
      "outputs": [
        {
          "output_type": "execute_result",
          "data": {
            "text/plain": [
              "-2"
            ]
          },
          "metadata": {},
          "execution_count": 5
        }
      ]
    },
    {
      "cell_type": "markdown",
      "source": [
        "Mult"
      ],
      "metadata": {
        "id": "u21PFTTnsZWH"
      }
    },
    {
      "cell_type": "code",
      "source": [
        "4*2"
      ],
      "metadata": {
        "colab": {
          "base_uri": "https://localhost:8080/"
        },
        "id": "nSB4ftEksa_Z",
        "outputId": "81ab79f0-ec40-45b8-df31-e4792c9cb07e"
      },
      "execution_count": 6,
      "outputs": [
        {
          "output_type": "execute_result",
          "data": {
            "text/plain": [
              "8"
            ]
          },
          "metadata": {},
          "execution_count": 6
        }
      ]
    },
    {
      "cell_type": "markdown",
      "source": [
        "Div"
      ],
      "metadata": {
        "id": "G_kUrGOdsdmA"
      }
    },
    {
      "cell_type": "code",
      "source": [
        "6//2 #retorna apenas a parte inteira da divisão (//)"
      ],
      "metadata": {
        "colab": {
          "base_uri": "https://localhost:8080/"
        },
        "id": "mnt6d0TtsfFK",
        "outputId": "e2aadc7d-8f6c-4fea-e383-e0aa105dcf21"
      },
      "execution_count": 8,
      "outputs": [
        {
          "output_type": "execute_result",
          "data": {
            "text/plain": [
              "3"
            ]
          },
          "metadata": {},
          "execution_count": 8
        }
      ]
    },
    {
      "cell_type": "code",
      "source": [
        "10%6 #retorna o resto da divisão (%)"
      ],
      "metadata": {
        "colab": {
          "base_uri": "https://localhost:8080/"
        },
        "id": "Vn1IAixIs57t",
        "outputId": "ca0b6f36-114f-49e9-8dca-11a6bdce814f"
      },
      "execution_count": 15,
      "outputs": [
        {
          "output_type": "execute_result",
          "data": {
            "text/plain": [
              "4"
            ]
          },
          "metadata": {},
          "execution_count": 15
        }
      ]
    },
    {
      "cell_type": "markdown",
      "source": [
        "# Operadores Lógicos"
      ],
      "metadata": {
        "id": "tqNhwgduvCSY"
      }
    },
    {
      "cell_type": "markdown",
      "source": [
        "Operadores Booleanos<Br>\n",
        "<, >, <=, >=, ==, !="
      ],
      "metadata": {
        "id": "D1nhpWz0vJUS"
      }
    },
    {
      "cell_type": "markdown",
      "source": [
        "Menor(<)"
      ],
      "metadata": {
        "id": "-R1K1if7vsWx"
      }
    },
    {
      "cell_type": "code",
      "source": [
        "4<8 #se menor ou igual (<=) o resultado returnara true mesmo no 8"
      ],
      "metadata": {
        "colab": {
          "base_uri": "https://localhost:8080/"
        },
        "id": "ASnBEuJ-vGoG",
        "outputId": "28cb3985-0815-4577-cb74-79cca9374823"
      },
      "execution_count": 18,
      "outputs": [
        {
          "output_type": "execute_result",
          "data": {
            "text/plain": [
              "True"
            ]
          },
          "metadata": {},
          "execution_count": 18
        }
      ]
    },
    {
      "cell_type": "markdown",
      "source": [
        "Maior(>)"
      ],
      "metadata": {
        "id": "x0m3mhu1vuYJ"
      }
    },
    {
      "cell_type": "code",
      "source": [
        "8>5 #se menor ou igual (>=) o resultado returnara true mesmo no 8"
      ],
      "metadata": {
        "colab": {
          "base_uri": "https://localhost:8080/"
        },
        "id": "_ohJTbzlvxDw",
        "outputId": "fb1d9442-f197-4f40-a4bb-4d2430a4f565"
      },
      "execution_count": 19,
      "outputs": [
        {
          "output_type": "execute_result",
          "data": {
            "text/plain": [
              "True"
            ]
          },
          "metadata": {},
          "execution_count": 19
        }
      ]
    },
    {
      "cell_type": "markdown",
      "source": [
        "Igualdade(==)"
      ],
      "metadata": {
        "id": "53qtkLX1vzpM"
      }
    },
    {
      "cell_type": "code",
      "source": [
        "8 == 10"
      ],
      "metadata": {
        "colab": {
          "base_uri": "https://localhost:8080/"
        },
        "id": "7Kz50ZI-wJUO",
        "outputId": "09499281-1a26-47e6-e5b3-3a200d2952e4"
      },
      "execution_count": 22,
      "outputs": [
        {
          "output_type": "execute_result",
          "data": {
            "text/plain": [
              "False"
            ]
          },
          "metadata": {},
          "execution_count": 22
        }
      ]
    },
    {
      "cell_type": "markdown",
      "source": [
        "Diferente (!=)"
      ],
      "metadata": {
        "id": "k_YHUxXdwsVN"
      }
    },
    {
      "cell_type": "code",
      "source": [
        "5!=6"
      ],
      "metadata": {
        "colab": {
          "base_uri": "https://localhost:8080/"
        },
        "id": "6AtnQsGSws-S",
        "outputId": "f13d4410-c029-474c-bf27-32a6f2d83488"
      },
      "execution_count": 23,
      "outputs": [
        {
          "output_type": "execute_result",
          "data": {
            "text/plain": [
              "True"
            ]
          },
          "metadata": {},
          "execution_count": 23
        }
      ]
    },
    {
      "cell_type": "markdown",
      "source": [
        "# Variaveis"
      ],
      "metadata": {
        "id": "DY0OxZcJw8Xf"
      }
    },
    {
      "cell_type": "markdown",
      "source": [
        "\n",
        "\n",
        "*   variaveis são lugares de memoria que irão armazenar dados\n",
        "*   'nome da variavel' = 'dado armazenado'\n",
        "* pode ter letra minuscula, maiscula e sublinhado\n",
        "* não deve começar com um numero\n",
        "* sempre dar nome significativo\n",
        "* nomes longos se usa camelCase, ex: minhaTemp\n",
        "* evitar nomes longos\n",
        "\n"
      ],
      "metadata": {
        "id": "v5w9uzR-w_4b"
      }
    },
    {
      "cell_type": "code",
      "source": [
        "num1 = 7\n",
        "num2 = 10"
      ],
      "metadata": {
        "id": "9ZmpLlO6w-nj"
      },
      "execution_count": 29,
      "outputs": []
    },
    {
      "cell_type": "code",
      "source": [
        "num1 + num2"
      ],
      "metadata": {
        "colab": {
          "base_uri": "https://localhost:8080/"
        },
        "id": "jrHoAb3wyeYL",
        "outputId": "056eb6c2-7169-47d9-f9f5-f3930b8905c1"
      },
      "execution_count": 30,
      "outputs": [
        {
          "output_type": "execute_result",
          "data": {
            "text/plain": [
              "17"
            ]
          },
          "metadata": {},
          "execution_count": 30
        }
      ]
    },
    {
      "cell_type": "markdown",
      "source": [
        "# Funções Build-in"
      ],
      "metadata": {
        "id": "w18Fh_9a0uCl"
      }
    },
    {
      "cell_type": "markdown",
      "source": [
        "funções nativas do python, disponivel em: https://docs.python.org/3.13/library/functions.html"
      ],
      "metadata": {
        "id": "FQrwZFJm00ON"
      }
    },
    {
      "cell_type": "markdown",
      "source": [
        "abs() -> retorna o valor absoluto do numero"
      ],
      "metadata": {
        "id": "0SajkjCT1TxD"
      }
    },
    {
      "cell_type": "code",
      "source": [
        "abs(-9)"
      ],
      "metadata": {
        "colab": {
          "base_uri": "https://localhost:8080/"
        },
        "id": "OiSuQK2G0xPb",
        "outputId": "74ae5a22-6d0c-498c-f4f7-df547a8fe7f7"
      },
      "execution_count": 31,
      "outputs": [
        {
          "output_type": "execute_result",
          "data": {
            "text/plain": [
              "9"
            ]
          },
          "metadata": {},
          "execution_count": 31
        }
      ]
    },
    {
      "cell_type": "markdown",
      "source": [
        "min() -> retorna o valor minimo de uma sequencia"
      ],
      "metadata": {
        "id": "nYa1BCyA1kLZ"
      }
    },
    {
      "cell_type": "code",
      "source": [
        "menorPreco = min(6, 2, 8, 10)"
      ],
      "metadata": {
        "id": "8HJ95rTg1oaY"
      },
      "execution_count": 33,
      "outputs": []
    },
    {
      "cell_type": "code",
      "source": [
        "menorPreco"
      ],
      "metadata": {
        "colab": {
          "base_uri": "https://localhost:8080/"
        },
        "id": "rSlXTqj52Pcw",
        "outputId": "7b0bb634-70b1-4e4b-a84c-0f9be3c880cb"
      },
      "execution_count": 34,
      "outputs": [
        {
          "output_type": "execute_result",
          "data": {
            "text/plain": [
              "2"
            ]
          },
          "metadata": {},
          "execution_count": 34
        }
      ]
    },
    {
      "cell_type": "markdown",
      "source": [
        "max() -> retorna o valor maximo de uma sequencia"
      ],
      "metadata": {
        "id": "XH2cB6XN1pNB"
      }
    },
    {
      "cell_type": "code",
      "source": [
        "maiorPreco = max(6, 2, 8, 10)"
      ],
      "metadata": {
        "id": "QY2M4KQV18Ss"
      },
      "execution_count": 38,
      "outputs": []
    },
    {
      "cell_type": "code",
      "source": [
        "maiorPreco"
      ],
      "metadata": {
        "colab": {
          "base_uri": "https://localhost:8080/"
        },
        "id": "s02Lj4br2Vms",
        "outputId": "401a1f0f-70b7-48f2-9b93-eb7434121672"
      },
      "execution_count": 39,
      "outputs": [
        {
          "output_type": "execute_result",
          "data": {
            "text/plain": [
              "10"
            ]
          },
          "metadata": {},
          "execution_count": 39
        }
      ]
    },
    {
      "cell_type": "markdown",
      "source": [
        "sum() -> faz a soma de uma sequencia"
      ],
      "metadata": {
        "id": "ezjToKz91v6E"
      }
    },
    {
      "cell_type": "code",
      "source": [
        "somaTotal = sum([2, 4, 6, 8, 10])"
      ],
      "metadata": {
        "id": "JU_Ux9Xc1zV_"
      },
      "execution_count": 40,
      "outputs": []
    },
    {
      "cell_type": "code",
      "source": [
        "somaTotal"
      ],
      "metadata": {
        "colab": {
          "base_uri": "https://localhost:8080/"
        },
        "id": "Cjr2dutL2rop",
        "outputId": "46e70212-2cf9-437a-dde3-2520003f8218"
      },
      "execution_count": 41,
      "outputs": [
        {
          "output_type": "execute_result",
          "data": {
            "text/plain": [
              "30"
            ]
          },
          "metadata": {},
          "execution_count": 41
        }
      ]
    },
    {
      "cell_type": "markdown",
      "source": [
        "pow() -> exponenciação"
      ],
      "metadata": {
        "id": "2j5hMVsy20XJ"
      }
    },
    {
      "cell_type": "code",
      "source": [
        "2**3"
      ],
      "metadata": {
        "colab": {
          "base_uri": "https://localhost:8080/"
        },
        "id": "33SHWBrc25Ea",
        "outputId": "98111a98-6464-4f57-88f8-062af53d6884"
      },
      "execution_count": 42,
      "outputs": [
        {
          "output_type": "execute_result",
          "data": {
            "text/plain": [
              "8"
            ]
          },
          "metadata": {},
          "execution_count": 42
        }
      ]
    },
    {
      "cell_type": "code",
      "source": [
        "pow(2, 3) #(base, expo)"
      ],
      "metadata": {
        "colab": {
          "base_uri": "https://localhost:8080/"
        },
        "id": "gtmMELPW3WmG",
        "outputId": "a8d616d8-74f5-4c9c-8a53-4322062a79e6"
      },
      "execution_count": 43,
      "outputs": [
        {
          "output_type": "execute_result",
          "data": {
            "text/plain": [
              "8"
            ]
          },
          "metadata": {},
          "execution_count": 43
        }
      ]
    },
    {
      "cell_type": "markdown",
      "source": [
        "print() -> mostra um valor na saida"
      ],
      "metadata": {
        "id": "Lx7dAiGv26Tn"
      }
    },
    {
      "cell_type": "code",
      "source": [
        "print(\"esse é um txt\")"
      ],
      "metadata": {
        "colab": {
          "base_uri": "https://localhost:8080/"
        },
        "id": "E8VmAgpr2--a",
        "outputId": "d8747f0f-3cfd-4207-fc93-47c28e5d5a5f"
      },
      "execution_count": 44,
      "outputs": [
        {
          "output_type": "stream",
          "name": "stdout",
          "text": [
            "esse é um txt\n"
          ]
        }
      ]
    },
    {
      "cell_type": "code",
      "source": [
        "print(somaTotal)"
      ],
      "metadata": {
        "colab": {
          "base_uri": "https://localhost:8080/"
        },
        "id": "0su4zwfB3kAM",
        "outputId": "94587a11-7fbc-45ae-82cd-77acec332c52"
      },
      "execution_count": 49,
      "outputs": [
        {
          "output_type": "stream",
          "name": "stdout",
          "text": [
            "30\n"
          ]
        }
      ]
    },
    {
      "cell_type": "markdown",
      "source": [
        "input() -> lê o valor de entrada inserido manualmente"
      ],
      "metadata": {
        "id": "VaVdqacq3HUO"
      }
    },
    {
      "cell_type": "code",
      "source": [
        "input(\"Qual o seu nome? \")"
      ],
      "metadata": {
        "colab": {
          "base_uri": "https://localhost:8080/",
          "height": 53
        },
        "id": "hCEososN3QsL",
        "outputId": "4814d34e-927c-4a43-f5c0-c140f6c838db"
      },
      "execution_count": 50,
      "outputs": [
        {
          "name": "stdout",
          "output_type": "stream",
          "text": [
            "Qual o seu nome? Bruno\n"
          ]
        },
        {
          "output_type": "execute_result",
          "data": {
            "text/plain": [
              "'Bruno'"
            ],
            "application/vnd.google.colaboratory.intrinsic+json": {
              "type": "string"
            }
          },
          "metadata": {},
          "execution_count": 50
        }
      ]
    },
    {
      "cell_type": "markdown",
      "source": [
        "definir variavel por input"
      ],
      "metadata": {
        "id": "AOiUw0T43_95"
      }
    },
    {
      "cell_type": "code",
      "source": [
        "nome = input(\"digite seu nome: \")"
      ],
      "metadata": {
        "colab": {
          "base_uri": "https://localhost:8080/"
        },
        "id": "Bf6AJx8J4DxX",
        "outputId": "c64fbea3-88ee-4d06-c823-391ded01cffd"
      },
      "execution_count": 51,
      "outputs": [
        {
          "name": "stdout",
          "output_type": "stream",
          "text": [
            "digite seu nome: Bruno\n"
          ]
        }
      ]
    },
    {
      "cell_type": "code",
      "source": [
        "print(nome)"
      ],
      "metadata": {
        "colab": {
          "base_uri": "https://localhost:8080/"
        },
        "id": "ymP6PsBz4JdS",
        "outputId": "8f828dbc-ed81-4a46-ab35-db9114052a27"
      },
      "execution_count": 52,
      "outputs": [
        {
          "output_type": "stream",
          "name": "stdout",
          "text": [
            "Bruno\n"
          ]
        }
      ]
    },
    {
      "cell_type": "markdown",
      "source": [
        "help() -> mostra as funcionalidades de uma determinada função"
      ],
      "metadata": {
        "id": "Gg-aXOVC3BlN"
      }
    },
    {
      "cell_type": "code",
      "source": [],
      "metadata": {
        "colab": {
          "base_uri": "https://localhost:8080/"
        },
        "id": "Evo45ks-3GIn",
        "outputId": "d6218dfa-4678-4fde-af81-9c31e270b7a1"
      },
      "execution_count": 53,
      "outputs": [
        {
          "output_type": "stream",
          "name": "stdout",
          "text": [
            "Welcome to Python 3.11's help utility! If this is your first time using\n",
            "Python, you should definitely check out the tutorial at\n",
            "https://docs.python.org/3.11/tutorial/.\n",
            "\n",
            "Enter the name of any module, keyword, or topic to get help on writing\n",
            "Python programs and using Python modules.  To get a list of available\n",
            "modules, keywords, symbols, or topics, enter \"modules\", \"keywords\",\n",
            "\"symbols\", or \"topics\".\n",
            "\n",
            "Each module also comes with a one-line summary of what it does; to list\n",
            "the modules whose name or summary contain a given string such as \"spam\",\n",
            "enter \"modules spam\".\n",
            "\n",
            "To quit this help utility and return to the interpreter,\n",
            "enter \"q\" or \"quit\".\n",
            "\n",
            "help> q\n",
            "\n",
            "You are now leaving help and returning to the Python interpreter.\n",
            "If you want to ask for help on a particular object directly from the\n",
            "interpreter, you can type \"help(object)\".  Executing \"help('string')\"\n",
            "has the same effect as typing a particular string at the help> prompt.\n"
          ]
        }
      ]
    }
  ]
}