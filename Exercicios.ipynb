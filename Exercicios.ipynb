{
  "nbformat": 4,
  "nbformat_minor": 0,
  "metadata": {
    "colab": {
      "provenance": [],
      "authorship_tag": "ABX9TyPOXbyUVeb8wNt2UzdyOQsu",
      "include_colab_link": true
    },
    "kernelspec": {
      "name": "python3",
      "display_name": "Python 3"
    },
    "language_info": {
      "name": "python"
    }
  },
  "cells": [
    {
      "cell_type": "markdown",
      "metadata": {
        "id": "view-in-github",
        "colab_type": "text"
      },
      "source": [
        "<a href=\"https://colab.research.google.com/github/ninosanctis/pythonEstudo/blob/main/Exercicios.ipynb\" target=\"_parent\"><img src=\"https://colab.research.google.com/assets/colab-badge.svg\" alt=\"Open In Colab\"/></a>"
      ]
    },
    {
      "cell_type": "markdown",
      "source": [
        "Calcular a soma dos numeros do 10 ao 14"
      ],
      "metadata": {
        "id": "9qUz-4bZ7G_t"
      }
    },
    {
      "cell_type": "code",
      "execution_count": null,
      "metadata": {
        "colab": {
          "base_uri": "https://localhost:8080/"
        },
        "id": "7ZHbJgtE7DjE",
        "outputId": "6178d832-c37d-40e5-9957-080a96cbddfe"
      },
      "outputs": [
        {
          "output_type": "execute_result",
          "data": {
            "text/plain": [
              "60"
            ]
          },
          "metadata": {},
          "execution_count": 1
        }
      ],
      "source": [
        "sum([10, 11, 12, 13, 14])"
      ]
    },
    {
      "cell_type": "markdown",
      "source": [
        "Calcula a média entre 10,15,20"
      ],
      "metadata": {
        "id": "xJ-bj-5j7Z0O"
      }
    },
    {
      "cell_type": "code",
      "source": [
        "(10+15+20)/3"
      ],
      "metadata": {
        "colab": {
          "base_uri": "https://localhost:8080/"
        },
        "id": "hydmJYSG7dTt",
        "outputId": "2dd6cf18-99e5-4dc0-b7e0-b588bedda7ab"
      },
      "execution_count": null,
      "outputs": [
        {
          "output_type": "execute_result",
          "data": {
            "text/plain": [
              "15.0"
            ]
          },
          "metadata": {},
          "execution_count": 2
        }
      ]
    },
    {
      "cell_type": "markdown",
      "source": [
        "faça uma média com notas escolares utilizando a entrada de dados"
      ],
      "metadata": {
        "id": "pDd2w_s17pfs"
      }
    },
    {
      "cell_type": "code",
      "source": [
        "nota1 = int(input(\"Digite nota 1: \"))  # int força a transforamr em inteiro\n",
        "nota2 = eval(input(\"Digite nota 2: \")) # transforma em numeros inteiros\n",
        "peso1 = 5\n",
        "peso2 = 5\n",
        "\n",
        "media = (nota1*peso1 + nota2*peso2)/(peso1 + peso2)\n",
        "print(f\"A média final é: {media}\") #f formata tudo em string e declara a variavel dentro das {}"
      ],
      "metadata": {
        "colab": {
          "base_uri": "https://localhost:8080/"
        },
        "id": "UvYhA06I7138",
        "outputId": "967bf3c2-f8a5-4cd4-e3b0-daae2f6dadfe"
      },
      "execution_count": null,
      "outputs": [
        {
          "output_type": "stream",
          "name": "stdout",
          "text": [
            "Digite nota 1: 10\n",
            "Digite nota 2: 10\n",
            "A média final é: 10.0\n"
          ]
        }
      ]
    },
    {
      "cell_type": "markdown",
      "source": [
        "Qual menor preço da lista?"
      ],
      "metadata": {
        "id": "jklgvVvT-J4_"
      }
    },
    {
      "cell_type": "markdown",
      "source": [
        "Preços: R$100.20, R$30.90, R$55.50, R$25.80, R$200"
      ],
      "metadata": {
        "id": "EEWPB1Fx-Nzm"
      }
    },
    {
      "cell_type": "code",
      "source": [
        "precos = [\n",
        "  100.20,\n",
        "  30.90,\n",
        "  55.50,\n",
        "  25.80,\n",
        "  200\n",
        "]\n",
        "\n",
        "print(min(precos))"
      ],
      "metadata": {
        "colab": {
          "base_uri": "https://localhost:8080/"
        },
        "id": "RDhTJiR--MH9",
        "outputId": "18f274d7-2953-40e6-8495-e325f62c105a"
      },
      "execution_count": null,
      "outputs": [
        {
          "output_type": "stream",
          "name": "stdout",
          "text": [
            "25.8\n"
          ]
        }
      ]
    },
    {
      "cell_type": "markdown",
      "source": [
        "Avalie se o número digitado pelo usuario é par ou impar. Se for par a saida deve mostrar True, se impar deverá mostrar False"
      ],
      "metadata": {
        "id": "-mKzkRGA_WzE"
      }
    },
    {
      "cell_type": "code",
      "source": [
        "numero_digitado = int(input(\"Digite um numero: \"))"
      ],
      "metadata": {
        "colab": {
          "base_uri": "https://localhost:8080/"
        },
        "id": "rsf65uvQCPoE",
        "outputId": "eeb46310-68f7-4a96-cc07-c64d9caf390a"
      },
      "execution_count": null,
      "outputs": [
        {
          "name": "stdout",
          "output_type": "stream",
          "text": [
            "Digite um numero: 10\n"
          ]
        }
      ]
    },
    {
      "cell_type": "code",
      "source": [
        "numero = numero_digitado % 2\n",
        "if numero == 0:\n",
        "  print(True)\n",
        "else:\n",
        "  print(False)"
      ],
      "metadata": {
        "colab": {
          "base_uri": "https://localhost:8080/"
        },
        "id": "afjf_5ZDCXUC",
        "outputId": "ed3f1989-c726-4fb1-f859-a576d7629e0f"
      },
      "execution_count": null,
      "outputs": [
        {
          "output_type": "stream",
          "name": "stdout",
          "text": [
            "False\n"
          ]
        }
      ]
    },
    {
      "cell_type": "markdown",
      "source": [
        "Verifique se o menor item dessa lista é menor que 20 reais\n",
        "preços: R 100.20,R 30.90, R 55.50,R 25.80, R$200"
      ],
      "metadata": {
        "id": "HEZIf4y4CpOd"
      }
    },
    {
      "cell_type": "code",
      "source": [
        "precos = [100.20, 30.90, 55.50, 25.80, 200, 18.25]\n",
        "if min(precos) < 15:\n",
        "  print(True)\n",
        "else:\n",
        "  print(False)"
      ],
      "metadata": {
        "colab": {
          "base_uri": "https://localhost:8080/"
        },
        "id": "cB5_PpaIC9_F",
        "outputId": "fc6a76be-b717-479c-8e58-c3eeabf6bb34"
      },
      "execution_count": null,
      "outputs": [
        {
          "output_type": "stream",
          "name": "stdout",
          "text": [
            "False\n"
          ]
        }
      ]
    },
    {
      "cell_type": "markdown",
      "source": [
        "Faça um conversor de temperatura em graus Fahrenheit fornecida pelo usuario em graus Celsius\n",
        "(5/9)*(fahrenheit - 32)"
      ],
      "metadata": {
        "id": "EMIvdR_XDoht"
      }
    },
    {
      "cell_type": "code",
      "source": [
        "fahrenheit = int(input(\"Digite a temperatura em fahrenheit: \"))\n",
        "celsius = (5/9)*(fahrenheit - 32)\n",
        "print(f\"A temperatura em celsius é: {celsius}\")\n"
      ],
      "metadata": {
        "colab": {
          "base_uri": "https://localhost:8080/"
        },
        "id": "pcwvOkGBHI10",
        "outputId": "5e5b2344-414d-4b38-ad09-9d287bab771e"
      },
      "execution_count": 36,
      "outputs": [
        {
          "output_type": "stream",
          "name": "stdout",
          "text": [
            "Digite a temperatura em fahrenheit: 32\n",
            "A temperatura em celsius é: 0.0\n"
          ]
        }
      ]
    }
  ]
}